{
  "nbformat": 4,
  "nbformat_minor": 0,
  "metadata": {
    "colab": {
      "provenance": [],
      "collapsed_sections": [
        "xqB5XvP-U3Sn",
        "L21RLrfDFdcE",
        "pD8XJufeSDAm",
        "BCSPjj-D4Fao",
        "veJ5zQOxSqPJ",
        "YIqsDew7Yn1o",
        "GPKvcwXX4KDe",
        "IZhGKvIO0FKu",
        "Vx9r4CJg2xkY",
        "r-sEJmKq6msb",
        "7JGm1YhnUExE",
        "gCymNXQuW15K",
        "D6O8akfmUoWc",
        "rkazD35dv0Un",
        "V4qRVZ9Jv2NV",
        "QRgW9szKv46I",
        "15juxBrzgiLk",
        "UJL5drQCU3TO"
      ],
      "include_colab_link": true
    },
    "kernelspec": {
      "name": "python3",
      "display_name": "Python 3"
    },
    "language_info": {
      "name": "python"
    }
  },
  "cells": [
    {
      "cell_type": "markdown",
      "metadata": {
        "id": "view-in-github",
        "colab_type": "text"
      },
      "source": [
        "<a href=\"https://colab.research.google.com/github/adigew/MLOps/blob/main/AI_Vertex_Pipeline1.ipynb\" target=\"_parent\"><img src=\"https://colab.research.google.com/assets/colab-badge.svg\" alt=\"Open In Colab\"/></a>"
      ]
    },
    {
      "cell_type": "markdown",
      "metadata": {
        "id": "xqB5XvP-U3Sn"
      },
      "source": [
        "# Dependencies\n"
      ]
    },
    {
      "cell_type": "code",
      "metadata": {
        "colab": {
          "base_uri": "https://localhost:8080/",
          "height": 1000
        },
        "id": "5UmtuvhYixkz",
        "outputId": "ffc87b3b-5ac3-4e6f-aaf5-84d2d4a59bcf"
      },
      "source": [
        "# updated to the latest dependencies on November 2022\n",
        "!pip install google-cloud-aiplatform==1.19.0 --upgrade\n",
        "!pip install google-cloud-pipeline-components==1.0.27 --upgrade\n",
        "!pip install kfp==1.8.16 --upgrade"
      ],
      "execution_count": null,
      "outputs": [
        {
          "output_type": "stream",
          "name": "stdout",
          "text": [
            "Looking in indexes: https://pypi.org/simple, https://us-python.pkg.dev/colab-wheels/public/simple/\n",
            "Collecting google-cloud-aiplatform==1.19.0\n",
            "  Using cached google_cloud_aiplatform-1.19.0-py2.py3-none-any.whl (2.3 MB)\n",
            "Requirement already satisfied: google-cloud-storage<3.0.0dev,>=1.32.0 in /usr/local/lib/python3.8/dist-packages (from google-cloud-aiplatform==1.19.0) (2.7.0)\n",
            "Requirement already satisfied: google-cloud-resource-manager<3.0.0dev,>=1.3.3 in /usr/local/lib/python3.8/dist-packages (from google-cloud-aiplatform==1.19.0) (1.8.1)\n",
            "Requirement already satisfied: google-cloud-bigquery<3.0.0dev,>=1.15.0 in /usr/local/lib/python3.8/dist-packages (from google-cloud-aiplatform==1.19.0) (2.34.4)\n",
            "Requirement already satisfied: packaging<22.0.0dev,>=14.3 in /usr/local/lib/python3.8/dist-packages (from google-cloud-aiplatform==1.19.0) (21.3)\n",
            "Requirement already satisfied: google-api-core[grpc]!=2.0.*,!=2.1.*,!=2.2.*,!=2.3.*,!=2.4.*,!=2.5.*,!=2.6.*,!=2.7.*,<3.0.0dev,>=1.32.0 in /usr/local/lib/python3.8/dist-packages (from google-cloud-aiplatform==1.19.0) (2.11.0)\n",
            "Requirement already satisfied: proto-plus<2.0.0dev,>=1.22.0 in /usr/local/lib/python3.8/dist-packages (from google-cloud-aiplatform==1.19.0) (1.22.2)\n",
            "Requirement already satisfied: protobuf!=3.20.0,!=3.20.1,!=4.21.0,!=4.21.1,!=4.21.2,!=4.21.3,!=4.21.4,!=4.21.5,<5.0.0dev,>=3.19.5 in /usr/local/lib/python3.8/dist-packages (from google-cloud-aiplatform==1.19.0) (3.19.6)\n",
            "Requirement already satisfied: googleapis-common-protos<2.0dev,>=1.56.2 in /usr/local/lib/python3.8/dist-packages (from google-api-core[grpc]!=2.0.*,!=2.1.*,!=2.2.*,!=2.3.*,!=2.4.*,!=2.5.*,!=2.6.*,!=2.7.*,<3.0.0dev,>=1.32.0->google-cloud-aiplatform==1.19.0) (1.58.0)\n",
            "Requirement already satisfied: google-auth<3.0dev,>=2.14.1 in /usr/local/lib/python3.8/dist-packages (from google-api-core[grpc]!=2.0.*,!=2.1.*,!=2.2.*,!=2.3.*,!=2.4.*,!=2.5.*,!=2.6.*,!=2.7.*,<3.0.0dev,>=1.32.0->google-cloud-aiplatform==1.19.0) (2.16.0)\n",
            "Requirement already satisfied: requests<3.0.0dev,>=2.18.0 in /usr/local/lib/python3.8/dist-packages (from google-api-core[grpc]!=2.0.*,!=2.1.*,!=2.2.*,!=2.3.*,!=2.4.*,!=2.5.*,!=2.6.*,!=2.7.*,<3.0.0dev,>=1.32.0->google-cloud-aiplatform==1.19.0) (2.25.1)\n",
            "Requirement already satisfied: grpcio<2.0dev,>=1.33.2 in /usr/local/lib/python3.8/dist-packages (from google-api-core[grpc]!=2.0.*,!=2.1.*,!=2.2.*,!=2.3.*,!=2.4.*,!=2.5.*,!=2.6.*,!=2.7.*,<3.0.0dev,>=1.32.0->google-cloud-aiplatform==1.19.0) (1.51.1)\n",
            "Requirement already satisfied: grpcio-status<2.0dev,>=1.33.2 in /usr/local/lib/python3.8/dist-packages (from google-api-core[grpc]!=2.0.*,!=2.1.*,!=2.2.*,!=2.3.*,!=2.4.*,!=2.5.*,!=2.6.*,!=2.7.*,<3.0.0dev,>=1.32.0->google-cloud-aiplatform==1.19.0) (1.48.2)\n",
            "Requirement already satisfied: python-dateutil<3.0dev,>=2.7.2 in /usr/local/lib/python3.8/dist-packages (from google-cloud-bigquery<3.0.0dev,>=1.15.0->google-cloud-aiplatform==1.19.0) (2.8.2)\n",
            "Requirement already satisfied: google-cloud-core<3.0.0dev,>=1.4.1 in /usr/local/lib/python3.8/dist-packages (from google-cloud-bigquery<3.0.0dev,>=1.15.0->google-cloud-aiplatform==1.19.0) (2.3.2)\n",
            "Requirement already satisfied: google-resumable-media<3.0dev,>=0.6.0 in /usr/local/lib/python3.8/dist-packages (from google-cloud-bigquery<3.0.0dev,>=1.15.0->google-cloud-aiplatform==1.19.0) (2.4.0)\n",
            "Requirement already satisfied: grpc-google-iam-v1<1.0.0dev,>=0.12.4 in /usr/local/lib/python3.8/dist-packages (from google-cloud-resource-manager<3.0.0dev,>=1.3.3->google-cloud-aiplatform==1.19.0) (0.12.6)\n",
            "Requirement already satisfied: pyparsing!=3.0.5,>=2.0.2 in /usr/local/lib/python3.8/dist-packages (from packaging<22.0.0dev,>=14.3->google-cloud-aiplatform==1.19.0) (3.0.9)\n",
            "Requirement already satisfied: rsa<5,>=3.1.4 in /usr/local/lib/python3.8/dist-packages (from google-auth<3.0dev,>=2.14.1->google-api-core[grpc]!=2.0.*,!=2.1.*,!=2.2.*,!=2.3.*,!=2.4.*,!=2.5.*,!=2.6.*,!=2.7.*,<3.0.0dev,>=1.32.0->google-cloud-aiplatform==1.19.0) (4.9)\n",
            "Requirement already satisfied: pyasn1-modules>=0.2.1 in /usr/local/lib/python3.8/dist-packages (from google-auth<3.0dev,>=2.14.1->google-api-core[grpc]!=2.0.*,!=2.1.*,!=2.2.*,!=2.3.*,!=2.4.*,!=2.5.*,!=2.6.*,!=2.7.*,<3.0.0dev,>=1.32.0->google-cloud-aiplatform==1.19.0) (0.2.8)\n",
            "Requirement already satisfied: six>=1.9.0 in /usr/local/lib/python3.8/dist-packages (from google-auth<3.0dev,>=2.14.1->google-api-core[grpc]!=2.0.*,!=2.1.*,!=2.2.*,!=2.3.*,!=2.4.*,!=2.5.*,!=2.6.*,!=2.7.*,<3.0.0dev,>=1.32.0->google-cloud-aiplatform==1.19.0) (1.15.0)\n",
            "Requirement already satisfied: cachetools<6.0,>=2.0.0 in /usr/local/lib/python3.8/dist-packages (from google-auth<3.0dev,>=2.14.1->google-api-core[grpc]!=2.0.*,!=2.1.*,!=2.2.*,!=2.3.*,!=2.4.*,!=2.5.*,!=2.6.*,!=2.7.*,<3.0.0dev,>=1.32.0->google-cloud-aiplatform==1.19.0) (5.2.1)\n",
            "Requirement already satisfied: google-crc32c<2.0dev,>=1.0 in /usr/local/lib/python3.8/dist-packages (from google-resumable-media<3.0dev,>=0.6.0->google-cloud-bigquery<3.0.0dev,>=1.15.0->google-cloud-aiplatform==1.19.0) (1.5.0)\n",
            "Requirement already satisfied: urllib3<1.27,>=1.21.1 in /usr/local/lib/python3.8/dist-packages (from requests<3.0.0dev,>=2.18.0->google-api-core[grpc]!=2.0.*,!=2.1.*,!=2.2.*,!=2.3.*,!=2.4.*,!=2.5.*,!=2.6.*,!=2.7.*,<3.0.0dev,>=1.32.0->google-cloud-aiplatform==1.19.0) (1.24.3)\n",
            "Requirement already satisfied: certifi>=2017.4.17 in /usr/local/lib/python3.8/dist-packages (from requests<3.0.0dev,>=2.18.0->google-api-core[grpc]!=2.0.*,!=2.1.*,!=2.2.*,!=2.3.*,!=2.4.*,!=2.5.*,!=2.6.*,!=2.7.*,<3.0.0dev,>=1.32.0->google-cloud-aiplatform==1.19.0) (2022.12.7)\n",
            "Requirement already satisfied: idna<3,>=2.5 in /usr/local/lib/python3.8/dist-packages (from requests<3.0.0dev,>=2.18.0->google-api-core[grpc]!=2.0.*,!=2.1.*,!=2.2.*,!=2.3.*,!=2.4.*,!=2.5.*,!=2.6.*,!=2.7.*,<3.0.0dev,>=1.32.0->google-cloud-aiplatform==1.19.0) (2.10)\n",
            "Requirement already satisfied: chardet<5,>=3.0.2 in /usr/local/lib/python3.8/dist-packages (from requests<3.0.0dev,>=2.18.0->google-api-core[grpc]!=2.0.*,!=2.1.*,!=2.2.*,!=2.3.*,!=2.4.*,!=2.5.*,!=2.6.*,!=2.7.*,<3.0.0dev,>=1.32.0->google-cloud-aiplatform==1.19.0) (4.0.0)\n",
            "Requirement already satisfied: pyasn1<0.5.0,>=0.4.6 in /usr/local/lib/python3.8/dist-packages (from pyasn1-modules>=0.2.1->google-auth<3.0dev,>=2.14.1->google-api-core[grpc]!=2.0.*,!=2.1.*,!=2.2.*,!=2.3.*,!=2.4.*,!=2.5.*,!=2.6.*,!=2.7.*,<3.0.0dev,>=1.32.0->google-cloud-aiplatform==1.19.0) (0.4.8)\n",
            "Installing collected packages: google-cloud-aiplatform\n",
            "  Attempting uninstall: google-cloud-aiplatform\n",
            "    Found existing installation: google-cloud-aiplatform 1.21.0\n",
            "    Uninstalling google-cloud-aiplatform-1.21.0:\n",
            "      Successfully uninstalled google-cloud-aiplatform-1.21.0\n",
            "Successfully installed google-cloud-aiplatform-1.19.0\n"
          ]
        },
        {
          "output_type": "display_data",
          "data": {
            "application/vnd.colab-display-data+json": {
              "pip_warning": {
                "packages": [
                  "google"
                ]
              }
            }
          },
          "metadata": {}
        },
        {
          "output_type": "stream",
          "name": "stdout",
          "text": [
            "Looking in indexes: https://pypi.org/simple, https://us-python.pkg.dev/colab-wheels/public/simple/\n",
            "Requirement already satisfied: google-cloud-pipeline-components==1.0.27 in /usr/local/lib/python3.8/dist-packages (1.0.27)\n",
            "Requirement already satisfied: google-api-core!=2.0.*,!=2.1.*,!=2.2.*,!=2.3.0,<3.0.0dev,>=1.31.5 in /usr/local/lib/python3.8/dist-packages (from google-cloud-pipeline-components==1.0.27) (2.11.0)\n",
            "Requirement already satisfied: google-cloud-aiplatform<2,>=1.11.0 in /usr/local/lib/python3.8/dist-packages (from google-cloud-pipeline-components==1.0.27) (1.19.0)\n",
            "Requirement already satisfied: kfp>=1.8.9 in /usr/local/lib/python3.8/dist-packages (from google-cloud-pipeline-components==1.0.27) (1.8.16)\n",
            "Requirement already satisfied: google-cloud-storage<3,>=1.20.0 in /usr/local/lib/python3.8/dist-packages (from google-cloud-pipeline-components==1.0.27) (2.7.0)\n",
            "Requirement already satisfied: google-cloud-notebooks>=0.4.0 in /usr/local/lib/python3.8/dist-packages (from google-cloud-pipeline-components==1.0.27) (1.6.1)\n",
            "Requirement already satisfied: requests<3.0.0dev,>=2.18.0 in /usr/local/lib/python3.8/dist-packages (from google-api-core!=2.0.*,!=2.1.*,!=2.2.*,!=2.3.0,<3.0.0dev,>=1.31.5->google-cloud-pipeline-components==1.0.27) (2.25.1)\n",
            "Requirement already satisfied: google-auth<3.0dev,>=2.14.1 in /usr/local/lib/python3.8/dist-packages (from google-api-core!=2.0.*,!=2.1.*,!=2.2.*,!=2.3.0,<3.0.0dev,>=1.31.5->google-cloud-pipeline-components==1.0.27) (2.16.0)\n",
            "Requirement already satisfied: protobuf!=3.20.0,!=3.20.1,!=4.21.0,!=4.21.1,!=4.21.2,!=4.21.3,!=4.21.4,!=4.21.5,<5.0.0dev,>=3.19.5 in /usr/local/lib/python3.8/dist-packages (from google-api-core!=2.0.*,!=2.1.*,!=2.2.*,!=2.3.0,<3.0.0dev,>=1.31.5->google-cloud-pipeline-components==1.0.27) (3.19.6)\n",
            "Requirement already satisfied: googleapis-common-protos<2.0dev,>=1.56.2 in /usr/local/lib/python3.8/dist-packages (from google-api-core!=2.0.*,!=2.1.*,!=2.2.*,!=2.3.0,<3.0.0dev,>=1.31.5->google-cloud-pipeline-components==1.0.27) (1.58.0)\n",
            "Requirement already satisfied: google-cloud-resource-manager<3.0.0dev,>=1.3.3 in /usr/local/lib/python3.8/dist-packages (from google-cloud-aiplatform<2,>=1.11.0->google-cloud-pipeline-components==1.0.27) (1.8.1)\n",
            "Requirement already satisfied: packaging<22.0.0dev,>=14.3 in /usr/local/lib/python3.8/dist-packages (from google-cloud-aiplatform<2,>=1.11.0->google-cloud-pipeline-components==1.0.27) (21.3)\n",
            "Requirement already satisfied: proto-plus<2.0.0dev,>=1.22.0 in /usr/local/lib/python3.8/dist-packages (from google-cloud-aiplatform<2,>=1.11.0->google-cloud-pipeline-components==1.0.27) (1.22.2)\n",
            "Requirement already satisfied: google-cloud-bigquery<3.0.0dev,>=1.15.0 in /usr/local/lib/python3.8/dist-packages (from google-cloud-aiplatform<2,>=1.11.0->google-cloud-pipeline-components==1.0.27) (2.34.4)\n",
            "Requirement already satisfied: grpc-google-iam-v1<1.0.0dev,>=0.12.4 in /usr/local/lib/python3.8/dist-packages (from google-cloud-notebooks>=0.4.0->google-cloud-pipeline-components==1.0.27) (0.12.6)\n",
            "Requirement already satisfied: google-resumable-media>=2.3.2 in /usr/local/lib/python3.8/dist-packages (from google-cloud-storage<3,>=1.20.0->google-cloud-pipeline-components==1.0.27) (2.4.0)\n",
            "Requirement already satisfied: google-cloud-core<3.0dev,>=2.3.0 in /usr/local/lib/python3.8/dist-packages (from google-cloud-storage<3,>=1.20.0->google-cloud-pipeline-components==1.0.27) (2.3.2)\n",
            "Requirement already satisfied: google-api-python-client<2,>=1.7.8 in /usr/local/lib/python3.8/dist-packages (from kfp>=1.8.9->google-cloud-pipeline-components==1.0.27) (1.12.11)\n",
            "Requirement already satisfied: requests-toolbelt<1,>=0.8.0 in /usr/local/lib/python3.8/dist-packages (from kfp>=1.8.9->google-cloud-pipeline-components==1.0.27) (0.10.1)\n",
            "Requirement already satisfied: kubernetes<19,>=8.0.0 in /usr/local/lib/python3.8/dist-packages (from kfp>=1.8.9->google-cloud-pipeline-components==1.0.27) (18.20.0)\n",
            "Requirement already satisfied: uritemplate<4,>=3.0.1 in /usr/local/lib/python3.8/dist-packages (from kfp>=1.8.9->google-cloud-pipeline-components==1.0.27) (3.0.1)\n",
            "Requirement already satisfied: tabulate<1,>=0.8.6 in /usr/local/lib/python3.8/dist-packages (from kfp>=1.8.9->google-cloud-pipeline-components==1.0.27) (0.8.10)\n",
            "Requirement already satisfied: docstring-parser<1,>=0.7.3 in /usr/local/lib/python3.8/dist-packages (from kfp>=1.8.9->google-cloud-pipeline-components==1.0.27) (0.15)\n",
            "Requirement already satisfied: typer<1.0,>=0.3.2 in /usr/local/lib/python3.8/dist-packages (from kfp>=1.8.9->google-cloud-pipeline-components==1.0.27) (0.7.0)\n",
            "Requirement already satisfied: typing-extensions<5,>=3.7.4 in /usr/local/lib/python3.8/dist-packages (from kfp>=1.8.9->google-cloud-pipeline-components==1.0.27) (4.4.0)\n",
            "Requirement already satisfied: strip-hints<1,>=0.1.8 in /usr/local/lib/python3.8/dist-packages (from kfp>=1.8.9->google-cloud-pipeline-components==1.0.27) (0.1.10)\n",
            "Requirement already satisfied: kfp-server-api<2.0.0,>=1.1.2 in /usr/local/lib/python3.8/dist-packages (from kfp>=1.8.9->google-cloud-pipeline-components==1.0.27) (1.8.5)\n",
            "Requirement already satisfied: PyYAML<6,>=5.3 in /usr/local/lib/python3.8/dist-packages (from kfp>=1.8.9->google-cloud-pipeline-components==1.0.27) (5.4.1)\n",
            "Requirement already satisfied: pydantic<2,>=1.8.2 in /usr/local/lib/python3.8/dist-packages (from kfp>=1.8.9->google-cloud-pipeline-components==1.0.27) (1.10.4)\n",
            "Requirement already satisfied: click<9,>=7.1.2 in /usr/local/lib/python3.8/dist-packages (from kfp>=1.8.9->google-cloud-pipeline-components==1.0.27) (7.1.2)\n",
            "Requirement already satisfied: jsonschema<4,>=3.0.1 in /usr/local/lib/python3.8/dist-packages (from kfp>=1.8.9->google-cloud-pipeline-components==1.0.27) (3.2.0)\n",
            "Requirement already satisfied: Deprecated<2,>=1.2.7 in /usr/local/lib/python3.8/dist-packages (from kfp>=1.8.9->google-cloud-pipeline-components==1.0.27) (1.2.13)\n",
            "Requirement already satisfied: cloudpickle<3,>=2.0.0 in /usr/local/lib/python3.8/dist-packages (from kfp>=1.8.9->google-cloud-pipeline-components==1.0.27) (2.2.0)\n",
            "Requirement already satisfied: absl-py<2,>=0.9 in /usr/local/lib/python3.8/dist-packages (from kfp>=1.8.9->google-cloud-pipeline-components==1.0.27) (1.3.0)\n",
            "Requirement already satisfied: kfp-pipeline-spec<0.2.0,>=0.1.16 in /usr/local/lib/python3.8/dist-packages (from kfp>=1.8.9->google-cloud-pipeline-components==1.0.27) (0.1.16)\n",
            "Requirement already satisfied: fire<1,>=0.3.1 in /usr/local/lib/python3.8/dist-packages (from kfp>=1.8.9->google-cloud-pipeline-components==1.0.27) (0.5.0)\n",
            "Requirement already satisfied: wrapt<2,>=1.10 in /usr/local/lib/python3.8/dist-packages (from Deprecated<2,>=1.2.7->kfp>=1.8.9->google-cloud-pipeline-components==1.0.27) (1.14.1)\n",
            "Requirement already satisfied: six in /usr/local/lib/python3.8/dist-packages (from fire<1,>=0.3.1->kfp>=1.8.9->google-cloud-pipeline-components==1.0.27) (1.15.0)\n",
            "Requirement already satisfied: termcolor in /usr/local/lib/python3.8/dist-packages (from fire<1,>=0.3.1->kfp>=1.8.9->google-cloud-pipeline-components==1.0.27) (2.2.0)\n",
            "Requirement already satisfied: grpcio-status<2.0dev,>=1.33.2 in /usr/local/lib/python3.8/dist-packages (from google-api-core!=2.0.*,!=2.1.*,!=2.2.*,!=2.3.0,<3.0.0dev,>=1.31.5->google-cloud-pipeline-components==1.0.27) (1.48.2)\n",
            "Requirement already satisfied: grpcio<2.0dev,>=1.33.2 in /usr/local/lib/python3.8/dist-packages (from google-api-core!=2.0.*,!=2.1.*,!=2.2.*,!=2.3.0,<3.0.0dev,>=1.31.5->google-cloud-pipeline-components==1.0.27) (1.51.1)\n",
            "Requirement already satisfied: google-auth-httplib2>=0.0.3 in /usr/local/lib/python3.8/dist-packages (from google-api-python-client<2,>=1.7.8->kfp>=1.8.9->google-cloud-pipeline-components==1.0.27) (0.1.0)\n",
            "Requirement already satisfied: httplib2<1dev,>=0.15.0 in /usr/local/lib/python3.8/dist-packages (from google-api-python-client<2,>=1.7.8->kfp>=1.8.9->google-cloud-pipeline-components==1.0.27) (0.17.4)\n",
            "Requirement already satisfied: pyasn1-modules>=0.2.1 in /usr/local/lib/python3.8/dist-packages (from google-auth<3.0dev,>=2.14.1->google-api-core!=2.0.*,!=2.1.*,!=2.2.*,!=2.3.0,<3.0.0dev,>=1.31.5->google-cloud-pipeline-components==1.0.27) (0.2.8)\n",
            "Requirement already satisfied: rsa<5,>=3.1.4 in /usr/local/lib/python3.8/dist-packages (from google-auth<3.0dev,>=2.14.1->google-api-core!=2.0.*,!=2.1.*,!=2.2.*,!=2.3.0,<3.0.0dev,>=1.31.5->google-cloud-pipeline-components==1.0.27) (4.9)\n",
            "Requirement already satisfied: cachetools<6.0,>=2.0.0 in /usr/local/lib/python3.8/dist-packages (from google-auth<3.0dev,>=2.14.1->google-api-core!=2.0.*,!=2.1.*,!=2.2.*,!=2.3.0,<3.0.0dev,>=1.31.5->google-cloud-pipeline-components==1.0.27) (5.2.1)\n",
            "Requirement already satisfied: python-dateutil<3.0dev,>=2.7.2 in /usr/local/lib/python3.8/dist-packages (from google-cloud-bigquery<3.0.0dev,>=1.15.0->google-cloud-aiplatform<2,>=1.11.0->google-cloud-pipeline-components==1.0.27) (2.8.2)\n",
            "Requirement already satisfied: google-crc32c<2.0dev,>=1.0 in /usr/local/lib/python3.8/dist-packages (from google-resumable-media>=2.3.2->google-cloud-storage<3,>=1.20.0->google-cloud-pipeline-components==1.0.27) (1.5.0)\n",
            "Requirement already satisfied: attrs>=17.4.0 in /usr/local/lib/python3.8/dist-packages (from jsonschema<4,>=3.0.1->kfp>=1.8.9->google-cloud-pipeline-components==1.0.27) (22.2.0)\n",
            "Requirement already satisfied: setuptools in /usr/local/lib/python3.8/dist-packages (from jsonschema<4,>=3.0.1->kfp>=1.8.9->google-cloud-pipeline-components==1.0.27) (57.4.0)\n",
            "Requirement already satisfied: pyrsistent>=0.14.0 in /usr/local/lib/python3.8/dist-packages (from jsonschema<4,>=3.0.1->kfp>=1.8.9->google-cloud-pipeline-components==1.0.27) (0.19.3)\n",
            "Requirement already satisfied: urllib3>=1.15 in /usr/local/lib/python3.8/dist-packages (from kfp-server-api<2.0.0,>=1.1.2->kfp>=1.8.9->google-cloud-pipeline-components==1.0.27) (1.24.3)\n",
            "Requirement already satisfied: certifi in /usr/local/lib/python3.8/dist-packages (from kfp-server-api<2.0.0,>=1.1.2->kfp>=1.8.9->google-cloud-pipeline-components==1.0.27) (2022.12.7)\n",
            "Requirement already satisfied: websocket-client!=0.40.0,!=0.41.*,!=0.42.*,>=0.32.0 in /usr/local/lib/python3.8/dist-packages (from kubernetes<19,>=8.0.0->kfp>=1.8.9->google-cloud-pipeline-components==1.0.27) (1.4.2)\n",
            "Requirement already satisfied: requests-oauthlib in /usr/local/lib/python3.8/dist-packages (from kubernetes<19,>=8.0.0->kfp>=1.8.9->google-cloud-pipeline-components==1.0.27) (1.3.1)\n",
            "Requirement already satisfied: pyparsing!=3.0.5,>=2.0.2 in /usr/local/lib/python3.8/dist-packages (from packaging<22.0.0dev,>=14.3->google-cloud-aiplatform<2,>=1.11.0->google-cloud-pipeline-components==1.0.27) (3.0.9)\n",
            "Requirement already satisfied: chardet<5,>=3.0.2 in /usr/local/lib/python3.8/dist-packages (from requests<3.0.0dev,>=2.18.0->google-api-core!=2.0.*,!=2.1.*,!=2.2.*,!=2.3.0,<3.0.0dev,>=1.31.5->google-cloud-pipeline-components==1.0.27) (4.0.0)\n",
            "Requirement already satisfied: idna<3,>=2.5 in /usr/local/lib/python3.8/dist-packages (from requests<3.0.0dev,>=2.18.0->google-api-core!=2.0.*,!=2.1.*,!=2.2.*,!=2.3.0,<3.0.0dev,>=1.31.5->google-cloud-pipeline-components==1.0.27) (2.10)\n",
            "Requirement already satisfied: wheel in /usr/local/lib/python3.8/dist-packages (from strip-hints<1,>=0.1.8->kfp>=1.8.9->google-cloud-pipeline-components==1.0.27) (0.38.4)\n",
            "Requirement already satisfied: pyasn1<0.5.0,>=0.4.6 in /usr/local/lib/python3.8/dist-packages (from pyasn1-modules>=0.2.1->google-auth<3.0dev,>=2.14.1->google-api-core!=2.0.*,!=2.1.*,!=2.2.*,!=2.3.0,<3.0.0dev,>=1.31.5->google-cloud-pipeline-components==1.0.27) (0.4.8)\n",
            "Requirement already satisfied: oauthlib>=3.0.0 in /usr/local/lib/python3.8/dist-packages (from requests-oauthlib->kubernetes<19,>=8.0.0->kfp>=1.8.9->google-cloud-pipeline-components==1.0.27) (3.2.2)\n",
            "Looking in indexes: https://pypi.org/simple, https://us-python.pkg.dev/colab-wheels/public/simple/\n",
            "Requirement already satisfied: kfp==1.8.16 in /usr/local/lib/python3.8/dist-packages (1.8.16)\n",
            "Requirement already satisfied: fire<1,>=0.3.1 in /usr/local/lib/python3.8/dist-packages (from kfp==1.8.16) (0.5.0)\n",
            "Requirement already satisfied: google-api-python-client<2,>=1.7.8 in /usr/local/lib/python3.8/dist-packages (from kfp==1.8.16) (1.12.11)\n",
            "Requirement already satisfied: google-auth<3,>=1.6.1 in /usr/local/lib/python3.8/dist-packages (from kfp==1.8.16) (2.16.0)\n",
            "Requirement already satisfied: typing-extensions<5,>=3.7.4 in /usr/local/lib/python3.8/dist-packages (from kfp==1.8.16) (4.4.0)\n",
            "Requirement already satisfied: requests-toolbelt<1,>=0.8.0 in /usr/local/lib/python3.8/dist-packages (from kfp==1.8.16) (0.10.1)\n",
            "Requirement already satisfied: strip-hints<1,>=0.1.8 in /usr/local/lib/python3.8/dist-packages (from kfp==1.8.16) (0.1.10)\n",
            "Requirement already satisfied: Deprecated<2,>=1.2.7 in /usr/local/lib/python3.8/dist-packages (from kfp==1.8.16) (1.2.13)\n",
            "Requirement already satisfied: cloudpickle<3,>=2.0.0 in /usr/local/lib/python3.8/dist-packages (from kfp==1.8.16) (2.2.0)\n",
            "Requirement already satisfied: absl-py<2,>=0.9 in /usr/local/lib/python3.8/dist-packages (from kfp==1.8.16) (1.3.0)\n",
            "Requirement already satisfied: kfp-server-api<2.0.0,>=1.1.2 in /usr/local/lib/python3.8/dist-packages (from kfp==1.8.16) (1.8.5)\n",
            "Requirement already satisfied: tabulate<1,>=0.8.6 in /usr/local/lib/python3.8/dist-packages (from kfp==1.8.16) (0.8.10)\n",
            "Requirement already satisfied: google-cloud-storage<3,>=1.20.0 in /usr/local/lib/python3.8/dist-packages (from kfp==1.8.16) (2.7.0)\n",
            "Requirement already satisfied: uritemplate<4,>=3.0.1 in /usr/local/lib/python3.8/dist-packages (from kfp==1.8.16) (3.0.1)\n",
            "Requirement already satisfied: click<9,>=7.1.2 in /usr/local/lib/python3.8/dist-packages (from kfp==1.8.16) (7.1.2)\n",
            "Requirement already satisfied: kubernetes<19,>=8.0.0 in /usr/local/lib/python3.8/dist-packages (from kfp==1.8.16) (18.20.0)\n",
            "Requirement already satisfied: google-api-core!=2.0.*,!=2.1.*,!=2.2.*,!=2.3.0,<3.0.0dev,>=1.31.5 in /usr/local/lib/python3.8/dist-packages (from kfp==1.8.16) (2.11.0)\n",
            "Requirement already satisfied: pydantic<2,>=1.8.2 in /usr/local/lib/python3.8/dist-packages (from kfp==1.8.16) (1.10.4)\n",
            "Requirement already satisfied: protobuf<4,>=3.13.0 in /usr/local/lib/python3.8/dist-packages (from kfp==1.8.16) (3.19.6)\n",
            "Requirement already satisfied: jsonschema<4,>=3.0.1 in /usr/local/lib/python3.8/dist-packages (from kfp==1.8.16) (3.2.0)\n",
            "Requirement already satisfied: kfp-pipeline-spec<0.2.0,>=0.1.16 in /usr/local/lib/python3.8/dist-packages (from kfp==1.8.16) (0.1.16)\n",
            "Requirement already satisfied: typer<1.0,>=0.3.2 in /usr/local/lib/python3.8/dist-packages (from kfp==1.8.16) (0.7.0)\n",
            "Requirement already satisfied: docstring-parser<1,>=0.7.3 in /usr/local/lib/python3.8/dist-packages (from kfp==1.8.16) (0.15)\n",
            "Requirement already satisfied: PyYAML<6,>=5.3 in /usr/local/lib/python3.8/dist-packages (from kfp==1.8.16) (5.4.1)\n",
            "Requirement already satisfied: wrapt<2,>=1.10 in /usr/local/lib/python3.8/dist-packages (from Deprecated<2,>=1.2.7->kfp==1.8.16) (1.14.1)\n",
            "Requirement already satisfied: termcolor in /usr/local/lib/python3.8/dist-packages (from fire<1,>=0.3.1->kfp==1.8.16) (2.2.0)\n",
            "Requirement already satisfied: six in /usr/local/lib/python3.8/dist-packages (from fire<1,>=0.3.1->kfp==1.8.16) (1.15.0)\n",
            "Requirement already satisfied: requests<3.0.0dev,>=2.18.0 in /usr/local/lib/python3.8/dist-packages (from google-api-core!=2.0.*,!=2.1.*,!=2.2.*,!=2.3.0,<3.0.0dev,>=1.31.5->kfp==1.8.16) (2.25.1)\n",
            "Requirement already satisfied: googleapis-common-protos<2.0dev,>=1.56.2 in /usr/local/lib/python3.8/dist-packages (from google-api-core!=2.0.*,!=2.1.*,!=2.2.*,!=2.3.0,<3.0.0dev,>=1.31.5->kfp==1.8.16) (1.58.0)\n",
            "Requirement already satisfied: google-auth-httplib2>=0.0.3 in /usr/local/lib/python3.8/dist-packages (from google-api-python-client<2,>=1.7.8->kfp==1.8.16) (0.1.0)\n",
            "Requirement already satisfied: httplib2<1dev,>=0.15.0 in /usr/local/lib/python3.8/dist-packages (from google-api-python-client<2,>=1.7.8->kfp==1.8.16) (0.17.4)\n",
            "Requirement already satisfied: pyasn1-modules>=0.2.1 in /usr/local/lib/python3.8/dist-packages (from google-auth<3,>=1.6.1->kfp==1.8.16) (0.2.8)\n",
            "Requirement already satisfied: rsa<5,>=3.1.4 in /usr/local/lib/python3.8/dist-packages (from google-auth<3,>=1.6.1->kfp==1.8.16) (4.9)\n",
            "Requirement already satisfied: cachetools<6.0,>=2.0.0 in /usr/local/lib/python3.8/dist-packages (from google-auth<3,>=1.6.1->kfp==1.8.16) (5.2.1)\n",
            "Requirement already satisfied: google-resumable-media>=2.3.2 in /usr/local/lib/python3.8/dist-packages (from google-cloud-storage<3,>=1.20.0->kfp==1.8.16) (2.4.0)\n",
            "Requirement already satisfied: google-cloud-core<3.0dev,>=2.3.0 in /usr/local/lib/python3.8/dist-packages (from google-cloud-storage<3,>=1.20.0->kfp==1.8.16) (2.3.2)\n",
            "Requirement already satisfied: attrs>=17.4.0 in /usr/local/lib/python3.8/dist-packages (from jsonschema<4,>=3.0.1->kfp==1.8.16) (22.2.0)\n",
            "Requirement already satisfied: setuptools in /usr/local/lib/python3.8/dist-packages (from jsonschema<4,>=3.0.1->kfp==1.8.16) (57.4.0)\n",
            "Requirement already satisfied: pyrsistent>=0.14.0 in /usr/local/lib/python3.8/dist-packages (from jsonschema<4,>=3.0.1->kfp==1.8.16) (0.19.3)\n",
            "Requirement already satisfied: urllib3>=1.15 in /usr/local/lib/python3.8/dist-packages (from kfp-server-api<2.0.0,>=1.1.2->kfp==1.8.16) (1.24.3)\n",
            "Requirement already satisfied: python-dateutil in /usr/local/lib/python3.8/dist-packages (from kfp-server-api<2.0.0,>=1.1.2->kfp==1.8.16) (2.8.2)\n",
            "Requirement already satisfied: certifi in /usr/local/lib/python3.8/dist-packages (from kfp-server-api<2.0.0,>=1.1.2->kfp==1.8.16) (2022.12.7)\n",
            "Requirement already satisfied: websocket-client!=0.40.0,!=0.41.*,!=0.42.*,>=0.32.0 in /usr/local/lib/python3.8/dist-packages (from kubernetes<19,>=8.0.0->kfp==1.8.16) (1.4.2)\n",
            "Requirement already satisfied: requests-oauthlib in /usr/local/lib/python3.8/dist-packages (from kubernetes<19,>=8.0.0->kfp==1.8.16) (1.3.1)\n",
            "Requirement already satisfied: wheel in /usr/local/lib/python3.8/dist-packages (from strip-hints<1,>=0.1.8->kfp==1.8.16) (0.38.4)\n",
            "Requirement already satisfied: google-crc32c<2.0dev,>=1.0 in /usr/local/lib/python3.8/dist-packages (from google-resumable-media>=2.3.2->google-cloud-storage<3,>=1.20.0->kfp==1.8.16) (1.5.0)\n",
            "Requirement already satisfied: pyasn1<0.5.0,>=0.4.6 in /usr/local/lib/python3.8/dist-packages (from pyasn1-modules>=0.2.1->google-auth<3,>=1.6.1->kfp==1.8.16) (0.4.8)\n",
            "Requirement already satisfied: chardet<5,>=3.0.2 in /usr/local/lib/python3.8/dist-packages (from requests<3.0.0dev,>=2.18.0->google-api-core!=2.0.*,!=2.1.*,!=2.2.*,!=2.3.0,<3.0.0dev,>=1.31.5->kfp==1.8.16) (4.0.0)\n",
            "Requirement already satisfied: idna<3,>=2.5 in /usr/local/lib/python3.8/dist-packages (from requests<3.0.0dev,>=2.18.0->google-api-core!=2.0.*,!=2.1.*,!=2.2.*,!=2.3.0,<3.0.0dev,>=1.31.5->kfp==1.8.16) (2.10)\n",
            "Requirement already satisfied: oauthlib>=3.0.0 in /usr/local/lib/python3.8/dist-packages (from requests-oauthlib->kubernetes<19,>=8.0.0->kfp==1.8.16) (3.2.2)\n"
          ]
        }
      ]
    },
    {
      "cell_type": "code",
      "metadata": {
        "id": "PtTT_nZzevNK",
        "colab": {
          "base_uri": "https://localhost:8080/",
          "height": 782
        },
        "outputId": "754a6bac-8702-4920-a23d-ea6b29ba74cd"
      },
      "source": [
        "pip install -U google-cloud-aiplatform \"shapely<2\""
      ],
      "execution_count": null,
      "outputs": [
        {
          "output_type": "stream",
          "name": "stdout",
          "text": [
            "Looking in indexes: https://pypi.org/simple, https://us-python.pkg.dev/colab-wheels/public/simple/\n",
            "Requirement already satisfied: google-cloud-aiplatform in /usr/local/lib/python3.8/dist-packages (1.19.0)\n",
            "Collecting google-cloud-aiplatform\n",
            "  Using cached google_cloud_aiplatform-1.21.0-py2.py3-none-any.whl (2.3 MB)\n",
            "Requirement already satisfied: shapely<2 in /usr/local/lib/python3.8/dist-packages (1.8.5.post1)\n",
            "Requirement already satisfied: google-cloud-storage<3.0.0dev,>=1.32.0 in /usr/local/lib/python3.8/dist-packages (from google-cloud-aiplatform) (2.7.0)\n",
            "Requirement already satisfied: google-cloud-resource-manager<3.0.0dev,>=1.3.3 in /usr/local/lib/python3.8/dist-packages (from google-cloud-aiplatform) (1.8.1)\n",
            "Requirement already satisfied: packaging<22.0.0dev,>=14.3 in /usr/local/lib/python3.8/dist-packages (from google-cloud-aiplatform) (21.3)\n",
            "Requirement already satisfied: google-cloud-bigquery<4.0.0dev,>=1.15.0 in /usr/local/lib/python3.8/dist-packages (from google-cloud-aiplatform) (2.34.4)\n",
            "Requirement already satisfied: google-api-core[grpc]!=2.0.*,!=2.1.*,!=2.2.*,!=2.3.*,!=2.4.*,!=2.5.*,!=2.6.*,!=2.7.*,<3.0.0dev,>=1.32.0 in /usr/local/lib/python3.8/dist-packages (from google-cloud-aiplatform) (2.11.0)\n",
            "Requirement already satisfied: protobuf!=3.20.0,!=3.20.1,!=4.21.0,!=4.21.1,!=4.21.2,!=4.21.3,!=4.21.4,!=4.21.5,<5.0.0dev,>=3.19.5 in /usr/local/lib/python3.8/dist-packages (from google-cloud-aiplatform) (3.19.6)\n",
            "Requirement already satisfied: proto-plus<2.0.0dev,>=1.22.0 in /usr/local/lib/python3.8/dist-packages (from google-cloud-aiplatform) (1.22.2)\n",
            "Requirement already satisfied: google-auth<3.0dev,>=2.14.1 in /usr/local/lib/python3.8/dist-packages (from google-api-core[grpc]!=2.0.*,!=2.1.*,!=2.2.*,!=2.3.*,!=2.4.*,!=2.5.*,!=2.6.*,!=2.7.*,<3.0.0dev,>=1.32.0->google-cloud-aiplatform) (2.16.0)\n",
            "Requirement already satisfied: googleapis-common-protos<2.0dev,>=1.56.2 in /usr/local/lib/python3.8/dist-packages (from google-api-core[grpc]!=2.0.*,!=2.1.*,!=2.2.*,!=2.3.*,!=2.4.*,!=2.5.*,!=2.6.*,!=2.7.*,<3.0.0dev,>=1.32.0->google-cloud-aiplatform) (1.58.0)\n",
            "Requirement already satisfied: requests<3.0.0dev,>=2.18.0 in /usr/local/lib/python3.8/dist-packages (from google-api-core[grpc]!=2.0.*,!=2.1.*,!=2.2.*,!=2.3.*,!=2.4.*,!=2.5.*,!=2.6.*,!=2.7.*,<3.0.0dev,>=1.32.0->google-cloud-aiplatform) (2.25.1)\n",
            "Requirement already satisfied: grpcio-status<2.0dev,>=1.33.2 in /usr/local/lib/python3.8/dist-packages (from google-api-core[grpc]!=2.0.*,!=2.1.*,!=2.2.*,!=2.3.*,!=2.4.*,!=2.5.*,!=2.6.*,!=2.7.*,<3.0.0dev,>=1.32.0->google-cloud-aiplatform) (1.48.2)\n",
            "Requirement already satisfied: grpcio<2.0dev,>=1.33.2 in /usr/local/lib/python3.8/dist-packages (from google-api-core[grpc]!=2.0.*,!=2.1.*,!=2.2.*,!=2.3.*,!=2.4.*,!=2.5.*,!=2.6.*,!=2.7.*,<3.0.0dev,>=1.32.0->google-cloud-aiplatform) (1.51.1)\n",
            "Requirement already satisfied: python-dateutil<3.0dev,>=2.7.2 in /usr/local/lib/python3.8/dist-packages (from google-cloud-bigquery<4.0.0dev,>=1.15.0->google-cloud-aiplatform) (2.8.2)\n",
            "Requirement already satisfied: google-resumable-media<3.0dev,>=0.6.0 in /usr/local/lib/python3.8/dist-packages (from google-cloud-bigquery<4.0.0dev,>=1.15.0->google-cloud-aiplatform) (2.4.0)\n",
            "Requirement already satisfied: google-cloud-core<3.0.0dev,>=1.4.1 in /usr/local/lib/python3.8/dist-packages (from google-cloud-bigquery<4.0.0dev,>=1.15.0->google-cloud-aiplatform) (2.3.2)\n",
            "Requirement already satisfied: grpc-google-iam-v1<1.0.0dev,>=0.12.4 in /usr/local/lib/python3.8/dist-packages (from google-cloud-resource-manager<3.0.0dev,>=1.3.3->google-cloud-aiplatform) (0.12.6)\n",
            "Requirement already satisfied: pyparsing!=3.0.5,>=2.0.2 in /usr/local/lib/python3.8/dist-packages (from packaging<22.0.0dev,>=14.3->google-cloud-aiplatform) (3.0.9)\n",
            "Requirement already satisfied: six>=1.9.0 in /usr/local/lib/python3.8/dist-packages (from google-auth<3.0dev,>=2.14.1->google-api-core[grpc]!=2.0.*,!=2.1.*,!=2.2.*,!=2.3.*,!=2.4.*,!=2.5.*,!=2.6.*,!=2.7.*,<3.0.0dev,>=1.32.0->google-cloud-aiplatform) (1.15.0)\n",
            "Requirement already satisfied: cachetools<6.0,>=2.0.0 in /usr/local/lib/python3.8/dist-packages (from google-auth<3.0dev,>=2.14.1->google-api-core[grpc]!=2.0.*,!=2.1.*,!=2.2.*,!=2.3.*,!=2.4.*,!=2.5.*,!=2.6.*,!=2.7.*,<3.0.0dev,>=1.32.0->google-cloud-aiplatform) (5.2.1)\n",
            "Requirement already satisfied: pyasn1-modules>=0.2.1 in /usr/local/lib/python3.8/dist-packages (from google-auth<3.0dev,>=2.14.1->google-api-core[grpc]!=2.0.*,!=2.1.*,!=2.2.*,!=2.3.*,!=2.4.*,!=2.5.*,!=2.6.*,!=2.7.*,<3.0.0dev,>=1.32.0->google-cloud-aiplatform) (0.2.8)\n",
            "Requirement already satisfied: rsa<5,>=3.1.4 in /usr/local/lib/python3.8/dist-packages (from google-auth<3.0dev,>=2.14.1->google-api-core[grpc]!=2.0.*,!=2.1.*,!=2.2.*,!=2.3.*,!=2.4.*,!=2.5.*,!=2.6.*,!=2.7.*,<3.0.0dev,>=1.32.0->google-cloud-aiplatform) (4.9)\n",
            "Requirement already satisfied: google-crc32c<2.0dev,>=1.0 in /usr/local/lib/python3.8/dist-packages (from google-resumable-media<3.0dev,>=0.6.0->google-cloud-bigquery<4.0.0dev,>=1.15.0->google-cloud-aiplatform) (1.5.0)\n",
            "Requirement already satisfied: urllib3<1.27,>=1.21.1 in /usr/local/lib/python3.8/dist-packages (from requests<3.0.0dev,>=2.18.0->google-api-core[grpc]!=2.0.*,!=2.1.*,!=2.2.*,!=2.3.*,!=2.4.*,!=2.5.*,!=2.6.*,!=2.7.*,<3.0.0dev,>=1.32.0->google-cloud-aiplatform) (1.24.3)\n",
            "Requirement already satisfied: chardet<5,>=3.0.2 in /usr/local/lib/python3.8/dist-packages (from requests<3.0.0dev,>=2.18.0->google-api-core[grpc]!=2.0.*,!=2.1.*,!=2.2.*,!=2.3.*,!=2.4.*,!=2.5.*,!=2.6.*,!=2.7.*,<3.0.0dev,>=1.32.0->google-cloud-aiplatform) (4.0.0)\n",
            "Requirement already satisfied: idna<3,>=2.5 in /usr/local/lib/python3.8/dist-packages (from requests<3.0.0dev,>=2.18.0->google-api-core[grpc]!=2.0.*,!=2.1.*,!=2.2.*,!=2.3.*,!=2.4.*,!=2.5.*,!=2.6.*,!=2.7.*,<3.0.0dev,>=1.32.0->google-cloud-aiplatform) (2.10)\n",
            "Requirement already satisfied: certifi>=2017.4.17 in /usr/local/lib/python3.8/dist-packages (from requests<3.0.0dev,>=2.18.0->google-api-core[grpc]!=2.0.*,!=2.1.*,!=2.2.*,!=2.3.*,!=2.4.*,!=2.5.*,!=2.6.*,!=2.7.*,<3.0.0dev,>=1.32.0->google-cloud-aiplatform) (2022.12.7)\n",
            "Requirement already satisfied: pyasn1<0.5.0,>=0.4.6 in /usr/local/lib/python3.8/dist-packages (from pyasn1-modules>=0.2.1->google-auth<3.0dev,>=2.14.1->google-api-core[grpc]!=2.0.*,!=2.1.*,!=2.2.*,!=2.3.*,!=2.4.*,!=2.5.*,!=2.6.*,!=2.7.*,<3.0.0dev,>=1.32.0->google-cloud-aiplatform) (0.4.8)\n",
            "Installing collected packages: google-cloud-aiplatform\n",
            "  Attempting uninstall: google-cloud-aiplatform\n",
            "    Found existing installation: google-cloud-aiplatform 1.19.0\n",
            "    Uninstalling google-cloud-aiplatform-1.19.0:\n",
            "      Successfully uninstalled google-cloud-aiplatform-1.19.0\n",
            "Successfully installed google-cloud-aiplatform-1.21.0\n"
          ]
        },
        {
          "output_type": "display_data",
          "data": {
            "application/vnd.colab-display-data+json": {
              "pip_warning": {
                "packages": [
                  "google"
                ]
              }
            }
          },
          "metadata": {}
        }
      ]
    },
    {
      "cell_type": "markdown",
      "metadata": {
        "id": "DJyao5kfylbI"
      },
      "source": [
        "**Please restart your Colab runtime before importing the modules**\n",
        "\n",
        "Otherwise you might get a version conflict related error. "
      ]
    },
    {
      "cell_type": "code",
      "metadata": {
        "id": "1mcs7B5VUox_"
      },
      "source": [
        "import kfp\n",
        "\n",
        "from typing import NamedTuple\n",
        "\n",
        "from kfp.v2.dsl import pipeline\n",
        "from kfp.v2.dsl import component\n",
        "from kfp.v2.dsl import OutputPath\n",
        "from kfp.v2.dsl import InputPath\n",
        "\n",
        "from kfp.v2.dsl import Output\n",
        "from kfp.v2.dsl import Metrics\n",
        "\n",
        "from kfp.v2 import compiler\n",
        "from kfp.v2.google.client import AIPlatformClient\n",
        "\n",
        "\n",
        "from google.cloud import aiplatform\n",
        "from google.cloud.aiplatform import pipeline_jobs\n",
        "\n",
        "from google_cloud_pipeline_components import aiplatform as gcc_aip\n",
        "\n",
        "from google_cloud_pipeline_components.v1.model import ModelUploadOp"
      ],
      "execution_count": null,
      "outputs": []
    },
    {
      "cell_type": "markdown",
      "metadata": {
        "id": "L21RLrfDFdcE"
      },
      "source": [
        "# Authentication"
      ]
    },
    {
      "cell_type": "code",
      "metadata": {
        "colab": {
          "base_uri": "https://localhost:8080/"
        },
        "id": "Z0RNBXMlf3Gl",
        "outputId": "4a18319f-7156-4152-9de8-5189e03579fa"
      },
      "source": [
        "from google.colab import auth\n",
        "auth.authenticate_user()\n",
        "\n",
        "credentials = auth._check_adc()\n",
        "print(credentials)"
      ],
      "execution_count": null,
      "outputs": [
        {
          "output_type": "stream",
          "name": "stdout",
          "text": [
            "True\n"
          ]
        }
      ]
    },
    {
      "cell_type": "markdown",
      "metadata": {
        "id": "CGReMEivS070"
      },
      "source": [
        "set the project id"
      ]
    },
    {
      "cell_type": "code",
      "metadata": {
        "id": "LYz_UaJ1S0QX"
      },
      "source": [
        "PROJECT_ID = \"statmike-demo3-374213\"\n",
        "PIPELINE_ROOT = \"gs://ml-demo-bites/\""
      ],
      "execution_count": null,
      "outputs": []
    },
    {
      "cell_type": "markdown",
      "metadata": {
        "id": "pD8XJufeSDAm"
      },
      "source": [
        "# Clients"
      ]
    },
    {
      "cell_type": "code",
      "metadata": {
        "id": "_v5AkYzaFb3Q"
      },
      "source": [
        "# use this instead\n",
        "aiplatform.init(project=PROJECT_ID,\n",
        "                location='us-central1')"
      ],
      "execution_count": null,
      "outputs": []
    },
    {
      "cell_type": "markdown",
      "metadata": {
        "id": "BCSPjj-D4Fao"
      },
      "source": [
        "# Pipeline Basic"
      ]
    },
    {
      "cell_type": "markdown",
      "metadata": {
        "id": "4gyZkv8xyenN"
      },
      "source": [
        "## Components"
      ]
    },
    {
      "cell_type": "code",
      "metadata": {
        "id": "onddQwd1U1qR"
      },
      "source": [
        "@component() \n",
        "def concat(a: str, b: str) -> str:\n",
        "  return a + b"
      ],
      "execution_count": null,
      "outputs": []
    },
    {
      "cell_type": "code",
      "metadata": {
        "id": "ma7xWwLLVSlr"
      },
      "source": [
        "@component\n",
        "def reverse(a: str)->NamedTuple(\"outputs\", [(\"before\", str), (\"after\", str)]):\n",
        "  return a, a[::-1]"
      ],
      "execution_count": null,
      "outputs": []
    },
    {
      "cell_type": "markdown",
      "metadata": {
        "id": "FZxMEEIWygAg"
      },
      "source": [
        "## Pipeline"
      ]
    },
    {
      "cell_type": "code",
      "metadata": {
        "id": "YUrZade1VZGy"
      },
      "source": [
        "@pipeline(name=\"basic-pipeline\",\n",
        "          pipeline_root=PIPELINE_ROOT + \"basic-pipeline\")\n",
        "def basic_pipeline(a: str='stres', b: str='sed'):\n",
        "    concat_task = concat(a, b)\n",
        "    reverse_task = reverse(concat_task.output)"
      ],
      "execution_count": null,
      "outputs": []
    },
    {
      "cell_type": "markdown",
      "metadata": {
        "id": "FTL5tzhSXRpG"
      },
      "source": [
        "## Compile\n",
        "\n",
        "The compiler takes our pipeline function and compiles it into our pipeline specifiction as json file. This json file we can use to create our pipeline in Vertex AI Pipelines."
      ]
    },
    {
      "cell_type": "code",
      "metadata": {
        "id": "iF0r0-CwVgpF",
        "colab": {
          "base_uri": "https://localhost:8080/"
        },
        "outputId": "170d916c-94a8-4f1e-fb9d-67c08bc78868"
      },
      "source": [
        "compiler.Compiler().compile(\n",
        "pipeline_func=basic_pipeline, package_path=\"basic_pipeline.json\"\n",
        ")"
      ],
      "execution_count": null,
      "outputs": [
        {
          "output_type": "stream",
          "name": "stderr",
          "text": [
            "/usr/local/lib/python3.8/dist-packages/kfp/v2/compiler/compiler.py:1290: FutureWarning: APIs imported from the v1 namespace (e.g. kfp.dsl, kfp.components, etc) will not be supported by the v2 compiler since v2.0.0\n",
            "  warnings.warn(\n"
          ]
        }
      ]
    },
    {
      "cell_type": "markdown",
      "metadata": {
        "id": "c4_93MkF369u"
      },
      "source": [
        "## Run\n",
        "\n",
        "Create the run job using the API. \n",
        "You can also directly upload the pipeline JSON file in the Vertx AI UI."
      ]
    },
    {
      "cell_type": "code",
      "metadata": {
        "id": "lwlXs0reY56x"
      },
      "source": [
        "job = pipeline_jobs.PipelineJob(\n",
        "    display_name=\"basic-pipeline\",\n",
        "    template_path=\"basic_pipeline.json\",\n",
        "    parameter_values={\"a\": \"stres\", \"b\": \"sed\"}\n",
        ")"
      ],
      "execution_count": null,
      "outputs": []
    },
    {
      "cell_type": "code",
      "metadata": {
        "id": "aogrQzmBZs7T"
      },
      "source": [
        "job.run(sync=False)"
      ],
      "execution_count": null,
      "outputs": []
    },
    {
      "cell_type": "markdown",
      "metadata": {
        "id": "veJ5zQOxSqPJ"
      },
      "source": [
        "## Component Specification (function based component)\n"
      ]
    },
    {
      "cell_type": "code",
      "metadata": {
        "id": "c1zyzD1-Ssi2"
      },
      "source": [
        "@component(output_component_file=\"concat_component.yaml\") \n",
        "def concat(a: str, b: str) -> str:\n",
        "  return a + b"
      ],
      "execution_count": null,
      "outputs": []
    },
    {
      "cell_type": "code",
      "metadata": {
        "colab": {
          "base_uri": "https://localhost:8080/"
        },
        "id": "RzHM-vQ2T82E",
        "outputId": "6e559f61-031e-4c16-ad15-25543ca6a5d3"
      },
      "source": [
        "!cat ./concat_component.yaml"
      ],
      "execution_count": null,
      "outputs": [
        {
          "output_type": "stream",
          "name": "stdout",
          "text": [
            "name: Concat\n",
            "inputs:\n",
            "- {name: a, type: String}\n",
            "- {name: b, type: String}\n",
            "outputs:\n",
            "- {name: Output, type: String}\n",
            "implementation:\n",
            "  container:\n",
            "    image: python:3.7\n",
            "    command:\n",
            "    - sh\n",
            "    - -c\n",
            "    - |2\n",
            "\n",
            "      if ! [ -x \"$(command -v pip)\" ]; then\n",
            "          python3 -m ensurepip || python3 -m ensurepip --user || apt-get install python3-pip\n",
            "      fi\n",
            "\n",
            "      PIP_DISABLE_PIP_VERSION_CHECK=1 python3 -m pip install --quiet     --no-warn-script-location 'kfp==1.8.12' && \"$0\" \"$@\"\n",
            "    - sh\n",
            "    - -ec\n",
            "    - |\n",
            "      program_path=$(mktemp -d)\n",
            "      printf \"%s\" \"$0\" > \"$program_path/ephemeral_component.py\"\n",
            "      python3 -m kfp.v2.components.executor_main                         --component_module_path                         \"$program_path/ephemeral_component.py\"                         \"$@\"\n",
            "    - |2+\n",
            "\n",
            "      import kfp\n",
            "      from kfp.v2 import dsl\n",
            "      from kfp.v2.dsl import *\n",
            "      from typing import *\n",
            "\n",
            "      def concat(a: str, b: str) -> str:\n",
            "        return a + b\n",
            "\n",
            "    args:\n",
            "    - --executor_input\n",
            "    - {executorInput: null}\n",
            "    - --function_to_execute\n",
            "    - concat\n"
          ]
        }
      ]
    },
    {
      "cell_type": "markdown",
      "metadata": {
        "id": "YIqsDew7Yn1o"
      },
      "source": [
        "## Share components\n",
        "In this example we use the component specification created based on a function based component."
      ]
    },
    {
      "cell_type": "code",
      "metadata": {
        "id": "AW-PsUmPYuFo"
      },
      "source": [
        "@pipeline(name=\"share-component\", \n",
        "          pipeline_root=PIPELINE_ROOT + \"share-component-pipeine\")\n",
        "def share_component_pipeline(a: str='stres', b: str='sed'):\n",
        "    #concat_op = concat(a, b)\n",
        "    concat_component = kfp.components.load_component_from_file('./concat_component.yaml')\n",
        "\n",
        "    concat_task = concat_component(a,b)\n",
        "    reverse_task = reverse(concat_task.output)"
      ],
      "execution_count": null,
      "outputs": []
    },
    {
      "cell_type": "code",
      "metadata": {
        "id": "hmW81e_WZ1mZ"
      },
      "source": [
        "# just the usual boilerplate code to run the pipeline\n",
        "compiler.Compiler().compile(\n",
        "  pipeline_func=share_component_pipeline, package_path=\"share_component_pipeline.json\"\n",
        ")\n",
        "\n",
        "job = pipeline_jobs.PipelineJob(\n",
        "    display_name=\"share-component-pipeline\",\n",
        "    template_path=\"share_component_pipeline.json\",\n",
        "    parameter_values={\"a\": \"stres\", \"b\": \"sed\"}\n",
        ")\n",
        "\n",
        "job.run(sync=False)"
      ],
      "execution_count": null,
      "outputs": []
    },
    {
      "cell_type": "markdown",
      "metadata": {
        "id": "GPKvcwXX4KDe"
      },
      "source": [
        "## Pipeline with GPU and machine type"
      ]
    },
    {
      "cell_type": "markdown",
      "metadata": {
        "id": "gxntLJgD4l45"
      },
      "source": [
        "The following is an example how you can add an GPU to your component. For example the training componentn that needs access to accelerators."
      ]
    },
    {
      "cell_type": "code",
      "metadata": {
        "id": "3v231zyV4MUO"
      },
      "source": [
        "@component(output_component_file=\"gpu_training.yaml\", \n",
        "           base_image=\"gcr.io/deeplearning-platform-release/tf2-gpu.2-6\") \n",
        "def gpuTrainingFunc() -> bool:\n",
        "  import logging\n",
        "  import tensorflow as tf\n",
        "\n",
        "  gpus = tf.config.list_physical_devices('GPU')\n",
        "\n",
        "  for gpu in gpus:\n",
        "    logging.info('Name: {} Type: {}'.format(gpu.name, gpu.device_type))\n",
        "  \n",
        "  return True"
      ],
      "execution_count": null,
      "outputs": []
    },
    {
      "cell_type": "code",
      "metadata": {
        "id": "sN_qYZE-6Nfn"
      },
      "source": [
        "@pipeline(name=\"gpu-pipeline\",\n",
        "          pipeline_root=PIPELINE_ROOT + \"gpu-pipeline\")\n",
        "def gpu_pipeline():\n",
        "    gpuTraining = gpuTrainingFunc().add_node_selector_constraint(\n",
        "        label_name=\"cloud.google.com/gke-accelerator\", \n",
        "        value=\"NVIDIA_TESLA_A100\")"
      ],
      "execution_count": null,
      "outputs": []
    },
    {
      "cell_type": "code",
      "metadata": {
        "id": "ZRXVqzdi7rdD"
      },
      "source": [
        "compiler.Compiler().compile(\n",
        "  pipeline_func=gpu_pipeline, package_path=\"gpu_pipeline.json\"\n",
        ")\n",
        "\n",
        "job = pipeline_jobs.PipelineJob(\n",
        "   display_name=\"gpu-pipeline\",\n",
        "   template_path=\"gpu_pipeline.json\"\n",
        ")\n",
        "\n",
        "job.run(sync=False)"
      ],
      "execution_count": null,
      "outputs": []
    },
    {
      "cell_type": "markdown",
      "metadata": {
        "id": "IZhGKvIO0FKu"
      },
      "source": [
        "## Schedule \n",
        "switch over to GCP and check your Cloud Functions and Cloud Scheduler ;)"
      ]
    },
    {
      "cell_type": "code",
      "source": [
        "# Deprecated don't use this anymore\n",
        "from kfp.v2.google.client import AIPlatformClient\n",
        "api_client = AIPlatformClient(project_id=PROJECT_ID,\n",
        "                              region='us-central1')\n"
      ],
      "metadata": {
        "id": "l3OvzW_e0bBc",
        "colab": {
          "base_uri": "https://localhost:8080/"
        },
        "outputId": "60a58dc5-ebfb-4f0c-cf04-819c3fa487d5"
      },
      "execution_count": null,
      "outputs": [
        {
          "output_type": "stream",
          "name": "stderr",
          "text": [
            "/usr/local/lib/python3.8/dist-packages/kfp/v2/google/client/client.py:169: FutureWarning: AIPlatformClient will be deprecated in v2.0.0. Please use PipelineJob https://googleapis.dev/python/aiplatform/latest/_modules/google/cloud/aiplatform/pipeline_jobs.html in Vertex SDK. Install the SDK using \"pip install google-cloud-aiplatform\"\n",
            "  warnings.warn(\n"
          ]
        }
      ]
    },
    {
      "cell_type": "code",
      "metadata": {
        "id": "8YtB-uUp0ILg"
      },
      "source": [
        "from kfp.v2.google.client import AIPlatformClient\n",
        "api_client = AIPlatformClient(project_id=PROJECT_ID, region='us-central1')\n"
      ],
      "execution_count": null,
      "outputs": []
    },
    {
      "cell_type": "code",
      "metadata": {
        "colab": {
          "base_uri": "https://localhost:8080/",
          "height": 469
        },
        "id": "QVVt4S130Vrz",
        "outputId": "e5323547-0571-49bd-918a-14c640ade87b"
      },
      "source": [
        "api_client.create_schedule_from_job_spec(\n",
        "    job_spec_path='basic_pipeline.json',\n",
        "    schedule='*/10 * * * *' # every 10 minutes\n",
        ")"
      ],
      "execution_count": null,
      "outputs": [
        {
          "output_type": "stream",
          "name": "stderr",
          "text": [
            "WARNING:googleapiclient.http:Invalid JSON content from response: b'{\\n  \"error\": {\\n    \"code\": 403,\\n    \"message\": \"Cloud Functions API has not been used in project 83566484713 before or it is disabled. Enable it by visiting https://console.developers.google.com/apis/api/cloudfunctions.googleapis.com/overview?project=83566484713 then retry. If you enabled this API recently, wait a few minutes for the action to propagate to our systems and retry.\",\\n    \"status\": \"PERMISSION_DENIED\",\\n    \"details\": [\\n      {\\n        \"@type\": \"type.googleapis.com/google.rpc.Help\",\\n        \"links\": [\\n          {\\n            \"description\": \"Google developers console API activation\",\\n            \"url\": \"https://console.developers.google.com/apis/api/cloudfunctions.googleapis.com/overview?project=83566484713\"\\n          }\\n        ]\\n      },\\n      {\\n        \"@type\": \"type.googleapis.com/google.rpc.ErrorInfo\",\\n        \"reason\": \"SERVICE_DISABLED\",\\n        \"domain\": \"googleapis.com\",\\n        \"metadata\": {\\n          \"service\": \"cloudfunctions.googleapis.com\",\\n          \"consumer\": \"projects/83566484713\"\\n        }\\n      }\\n    ]\\n  }\\n}\\n'\n"
          ]
        },
        {
          "output_type": "error",
          "ename": "HttpError",
          "evalue": "ignored",
          "traceback": [
            "\u001b[0;31m---------------------------------------------------------------------------\u001b[0m",
            "\u001b[0;31mHttpError\u001b[0m                                 Traceback (most recent call last)",
            "\u001b[0;32m<ipython-input-26-adcd945c64a8>\u001b[0m in \u001b[0;36m<module>\u001b[0;34m\u001b[0m\n\u001b[0;32m----> 1\u001b[0;31m api_client.create_schedule_from_job_spec(\n\u001b[0m\u001b[1;32m      2\u001b[0m     \u001b[0mjob_spec_path\u001b[0m\u001b[0;34m=\u001b[0m\u001b[0;34m'basic_pipeline.json'\u001b[0m\u001b[0;34m,\u001b[0m\u001b[0;34m\u001b[0m\u001b[0;34m\u001b[0m\u001b[0m\n\u001b[1;32m      3\u001b[0m     \u001b[0mschedule\u001b[0m\u001b[0;34m=\u001b[0m\u001b[0;34m'*/10 * * * *'\u001b[0m \u001b[0;31m# every 10 minutes\u001b[0m\u001b[0;34m\u001b[0m\u001b[0;34m\u001b[0m\u001b[0m\n\u001b[1;32m      4\u001b[0m )\n",
            "\u001b[0;32m/usr/local/lib/python3.8/dist-packages/kfp/v2/google/client/client.py\u001b[0m in \u001b[0;36mcreate_schedule_from_job_spec\u001b[0;34m(self, job_spec_path, schedule, time_zone, pipeline_root, parameter_values, service_account, enable_caching, app_engine_region, cloud_scheduler_service_account)\u001b[0m\n\u001b[1;32m    413\u001b[0m             \u001b[0m_set_enable_caching_value\u001b[0m\u001b[0;34m(\u001b[0m\u001b[0mjob_spec\u001b[0m\u001b[0;34m[\u001b[0m\u001b[0;34m'pipelineSpec'\u001b[0m\u001b[0;34m]\u001b[0m\u001b[0;34m,\u001b[0m \u001b[0menable_caching\u001b[0m\u001b[0;34m)\u001b[0m\u001b[0;34m\u001b[0m\u001b[0;34m\u001b[0m\u001b[0m\n\u001b[1;32m    414\u001b[0m \u001b[0;34m\u001b[0m\u001b[0m\n\u001b[0;32m--> 415\u001b[0;31m         return _create_from_pipeline_dict(\n\u001b[0m\u001b[1;32m    416\u001b[0m             \u001b[0mpipeline_dict\u001b[0m\u001b[0;34m=\u001b[0m\u001b[0mjob_spec\u001b[0m\u001b[0;34m,\u001b[0m\u001b[0;34m\u001b[0m\u001b[0;34m\u001b[0m\u001b[0m\n\u001b[1;32m    417\u001b[0m             \u001b[0mschedule\u001b[0m\u001b[0;34m=\u001b[0m\u001b[0mschedule\u001b[0m\u001b[0;34m,\u001b[0m\u001b[0;34m\u001b[0m\u001b[0;34m\u001b[0m\u001b[0m\n",
            "\u001b[0;32m/usr/local/lib/python3.8/dist-packages/kfp/v2/google/client/schedule.py\u001b[0m in \u001b[0;36m_create_from_pipeline_dict\u001b[0;34m(pipeline_dict, schedule, project_id, region, time_zone, parameter_values, pipeline_root, service_account, app_engine_region, cloud_scheduler_service_account)\u001b[0m\n\u001b[1;32m    118\u001b[0m     \u001b[0mapp_engine_region\u001b[0m \u001b[0;34m=\u001b[0m \u001b[0mapp_engine_region\u001b[0m \u001b[0;32mor\u001b[0m \u001b[0mregion\u001b[0m\u001b[0;34m\u001b[0m\u001b[0;34m\u001b[0m\u001b[0m\n\u001b[1;32m    119\u001b[0m \u001b[0;34m\u001b[0m\u001b[0m\n\u001b[0;32m--> 120\u001b[0;31m     proxy_function_url = _get_proxy_cloud_function_endpoint(\n\u001b[0m\u001b[1;32m    121\u001b[0m         \u001b[0mproject_id\u001b[0m\u001b[0;34m=\u001b[0m\u001b[0mproject_id\u001b[0m\u001b[0;34m,\u001b[0m\u001b[0;34m\u001b[0m\u001b[0;34m\u001b[0m\u001b[0m\n\u001b[1;32m    122\u001b[0m         \u001b[0mregion\u001b[0m\u001b[0;34m=\u001b[0m\u001b[0mregion\u001b[0m\u001b[0;34m,\u001b[0m\u001b[0;34m\u001b[0m\u001b[0;34m\u001b[0m\u001b[0m\n",
            "\u001b[0;32m/usr/local/lib/python3.8/dist-packages/kfp/v2/google/client/schedule.py\u001b[0m in \u001b[0;36m_get_proxy_cloud_function_endpoint\u001b[0;34m(project_id, region, cloud_scheduler_service_account)\u001b[0m\n\u001b[1;32m    397\u001b[0m     \u001b[0mfunction_entry_point\u001b[0m \u001b[0;34m=\u001b[0m \u001b[0;34m'_process_request'\u001b[0m\u001b[0;34m\u001b[0m\u001b[0;34m\u001b[0m\u001b[0m\n\u001b[1;32m    398\u001b[0m \u001b[0;34m\u001b[0m\u001b[0m\n\u001b[0;32m--> 399\u001b[0;31m     function_dict = _create_or_get_cloud_function(\n\u001b[0m\u001b[1;32m    400\u001b[0m         \u001b[0mname\u001b[0m\u001b[0;34m=\u001b[0m\u001b[0m_PROXY_FUNCTION_NAME\u001b[0m\u001b[0;34m,\u001b[0m\u001b[0;34m\u001b[0m\u001b[0;34m\u001b[0m\u001b[0m\n\u001b[1;32m    401\u001b[0m         \u001b[0mentry_point\u001b[0m\u001b[0;34m=\u001b[0m\u001b[0mfunction_entry_point\u001b[0m\u001b[0;34m,\u001b[0m\u001b[0;34m\u001b[0m\u001b[0;34m\u001b[0m\u001b[0m\n",
            "\u001b[0;32m/usr/local/lib/python3.8/dist-packages/kfp/v2/google/client/schedule.py\u001b[0m in \u001b[0;36m_create_or_get_cloud_function\u001b[0;34m(name, entry_point, file_data, project_id, region, runtime, cloud_scheduler_service_account)\u001b[0m\n\u001b[1;32m    299\u001b[0m             \u001b[0mraise_error\u001b[0m \u001b[0;34m=\u001b[0m \u001b[0;32mFalse\u001b[0m\u001b[0;34m\u001b[0m\u001b[0;34m\u001b[0m\u001b[0m\n\u001b[1;32m    300\u001b[0m         \u001b[0;32mif\u001b[0m \u001b[0mraise_error\u001b[0m\u001b[0;34m:\u001b[0m\u001b[0;34m\u001b[0m\u001b[0;34m\u001b[0m\u001b[0m\n\u001b[0;32m--> 301\u001b[0;31m             \u001b[0;32mraise\u001b[0m \u001b[0merr\u001b[0m\u001b[0;34m\u001b[0m\u001b[0;34m\u001b[0m\u001b[0m\n\u001b[0m\u001b[1;32m    302\u001b[0m \u001b[0;34m\u001b[0m\u001b[0m\n\u001b[1;32m    303\u001b[0m     get_upload_url_response = functions_api.generateUploadUrl(\n",
            "\u001b[0;32m/usr/local/lib/python3.8/dist-packages/kfp/v2/google/client/schedule.py\u001b[0m in \u001b[0;36m_create_or_get_cloud_function\u001b[0;34m(name, entry_point, file_data, project_id, region, runtime, cloud_scheduler_service_account)\u001b[0m\n\u001b[1;32m    290\u001b[0m     \u001b[0;31m# Returning early if the function already exists.\u001b[0m\u001b[0;34m\u001b[0m\u001b[0;34m\u001b[0m\u001b[0;34m\u001b[0m\u001b[0m\n\u001b[1;32m    291\u001b[0m     \u001b[0;32mtry\u001b[0m\u001b[0;34m:\u001b[0m\u001b[0;34m\u001b[0m\u001b[0;34m\u001b[0m\u001b[0m\n\u001b[0;32m--> 292\u001b[0;31m         function_get_response = functions_api.get(\n\u001b[0m\u001b[1;32m    293\u001b[0m             name=function_full_name).execute()\n\u001b[1;32m    294\u001b[0m         \u001b[0;32mreturn\u001b[0m \u001b[0mfunction_get_response\u001b[0m\u001b[0;34m\u001b[0m\u001b[0;34m\u001b[0m\u001b[0m\n",
            "\u001b[0;32m/usr/local/lib/python3.8/dist-packages/googleapiclient/_helpers.py\u001b[0m in \u001b[0;36mpositional_wrapper\u001b[0;34m(*args, **kwargs)\u001b[0m\n\u001b[1;32m    132\u001b[0m                 \u001b[0;32melif\u001b[0m \u001b[0mpositional_parameters_enforcement\u001b[0m \u001b[0;34m==\u001b[0m \u001b[0mPOSITIONAL_WARNING\u001b[0m\u001b[0;34m:\u001b[0m\u001b[0;34m\u001b[0m\u001b[0;34m\u001b[0m\u001b[0m\n\u001b[1;32m    133\u001b[0m                     \u001b[0mlogger\u001b[0m\u001b[0;34m.\u001b[0m\u001b[0mwarning\u001b[0m\u001b[0;34m(\u001b[0m\u001b[0mmessage\u001b[0m\u001b[0;34m)\u001b[0m\u001b[0;34m\u001b[0m\u001b[0;34m\u001b[0m\u001b[0m\n\u001b[0;32m--> 134\u001b[0;31m             \u001b[0;32mreturn\u001b[0m \u001b[0mwrapped\u001b[0m\u001b[0;34m(\u001b[0m\u001b[0;34m*\u001b[0m\u001b[0margs\u001b[0m\u001b[0;34m,\u001b[0m \u001b[0;34m**\u001b[0m\u001b[0mkwargs\u001b[0m\u001b[0;34m)\u001b[0m\u001b[0;34m\u001b[0m\u001b[0;34m\u001b[0m\u001b[0m\n\u001b[0m\u001b[1;32m    135\u001b[0m \u001b[0;34m\u001b[0m\u001b[0m\n\u001b[1;32m    136\u001b[0m         \u001b[0;32mreturn\u001b[0m \u001b[0mpositional_wrapper\u001b[0m\u001b[0;34m\u001b[0m\u001b[0;34m\u001b[0m\u001b[0m\n",
            "\u001b[0;32m/usr/local/lib/python3.8/dist-packages/googleapiclient/http.py\u001b[0m in \u001b[0;36mexecute\u001b[0;34m(self, http, num_retries)\u001b[0m\n\u001b[1;32m    913\u001b[0m             \u001b[0mcallback\u001b[0m\u001b[0;34m(\u001b[0m\u001b[0mresp\u001b[0m\u001b[0;34m)\u001b[0m\u001b[0;34m\u001b[0m\u001b[0;34m\u001b[0m\u001b[0m\n\u001b[1;32m    914\u001b[0m         \u001b[0;32mif\u001b[0m \u001b[0mresp\u001b[0m\u001b[0;34m.\u001b[0m\u001b[0mstatus\u001b[0m \u001b[0;34m>=\u001b[0m \u001b[0;36m300\u001b[0m\u001b[0;34m:\u001b[0m\u001b[0;34m\u001b[0m\u001b[0;34m\u001b[0m\u001b[0m\n\u001b[0;32m--> 915\u001b[0;31m             \u001b[0;32mraise\u001b[0m \u001b[0mHttpError\u001b[0m\u001b[0;34m(\u001b[0m\u001b[0mresp\u001b[0m\u001b[0;34m,\u001b[0m \u001b[0mcontent\u001b[0m\u001b[0;34m,\u001b[0m \u001b[0muri\u001b[0m\u001b[0;34m=\u001b[0m\u001b[0mself\u001b[0m\u001b[0;34m.\u001b[0m\u001b[0muri\u001b[0m\u001b[0;34m)\u001b[0m\u001b[0;34m\u001b[0m\u001b[0;34m\u001b[0m\u001b[0m\n\u001b[0m\u001b[1;32m    916\u001b[0m         \u001b[0;32mreturn\u001b[0m \u001b[0mself\u001b[0m\u001b[0;34m.\u001b[0m\u001b[0mpostproc\u001b[0m\u001b[0;34m(\u001b[0m\u001b[0mresp\u001b[0m\u001b[0;34m,\u001b[0m \u001b[0mcontent\u001b[0m\u001b[0;34m)\u001b[0m\u001b[0;34m\u001b[0m\u001b[0;34m\u001b[0m\u001b[0m\n\u001b[1;32m    917\u001b[0m \u001b[0;34m\u001b[0m\u001b[0m\n",
            "\u001b[0;31mHttpError\u001b[0m: <HttpError 403 when requesting https://cloudfunctions.googleapis.com/v1/projects/statmike-demo3-374213/locations/us-central1/functions/templated_http_request-v1?alt=json returned \"Cloud Functions API has not been used in project 83566484713 before or it is disabled. Enable it by visiting https://console.developers.google.com/apis/api/cloudfunctions.googleapis.com/overview?project=83566484713 then retry. If you enabled this API recently, wait a few minutes for the action to propagate to our systems and retry.\". Details: \"[{'@type': 'type.googleapis.com/google.rpc.Help', 'links': [{'description': 'Google developers console API activation', 'url': 'https://console.developers.google.com/apis/api/cloudfunctions.googleapis.com/overview?project=83566484713'}]}, {'@type': 'type.googleapis.com/google.rpc.ErrorInfo', 'reason': 'SERVICE_DISABLED', 'domain': 'googleapis.com', 'metadata': {'service': 'cloudfunctions.googleapis.com', 'consumer': 'projects/83566484713'}}]\">"
          ]
        }
      ]
    },
    {
      "cell_type": "markdown",
      "metadata": {
        "id": "Vx9r4CJg2xkY"
      },
      "source": [
        "## Additional Packages"
      ]
    },
    {
      "cell_type": "code",
      "metadata": {
        "id": "al_sL-1f2zYK"
      },
      "source": [
        "@component(packages_to_install = [\"pandas==1.3.4\"],) \n",
        "def additional_packages():\n",
        "  import pandas\n",
        "  print(pandas.__version__)\n",
        "\n",
        "# fails for demonstration purposes\n",
        "@component() \n",
        "def additional_packages_missing():\n",
        "  import pandas\n",
        "  print(pandas.__version__)"
      ],
      "execution_count": null,
      "outputs": []
    },
    {
      "cell_type": "code",
      "metadata": {
        "id": "jJl27Itt3iCw",
        "colab": {
          "base_uri": "https://localhost:8080/"
        },
        "outputId": "523848fc-dbcd-4dd2-d9ad-fc0b16b8c9b5"
      },
      "source": [
        "@pipeline(name=\"additional-packages-pipeline\",\n",
        "          pipeline_root=PIPELINE_ROOT + \"additional-packages-pipeline\")\n",
        "def additional_packges_pipeline():\n",
        "    additional_packages_task = additional_packages()\n",
        "    additional_packages_missing_task = additional_packages_missing()\n",
        "\n",
        "compiler.Compiler().compile(\n",
        "  pipeline_func=additional_packges_pipeline, package_path=\"additional_packages_pipeline.json\"\n",
        ")\n",
        "\n",
        "job = pipeline_jobs.PipelineJob(\n",
        "    display_name=\"additional-packages-pipeline\",\n",
        "    template_path=\"additional_packages_pipeline.json\"\n",
        ")\n",
        "\n",
        "job.run(sync=False)"
      ],
      "execution_count": null,
      "outputs": [
        {
          "output_type": "stream",
          "name": "stderr",
          "text": [
            "/usr/local/lib/python3.8/dist-packages/kfp/v2/compiler/compiler.py:1290: FutureWarning: APIs imported from the v1 namespace (e.g. kfp.dsl, kfp.components, etc) will not be supported by the v2 compiler since v2.0.0\n",
            "  warnings.warn(\n"
          ]
        }
      ]
    },
    {
      "cell_type": "markdown",
      "metadata": {
        "id": "r-sEJmKq6msb"
      },
      "source": [
        "## Base Image\n",
        "\n",
        "Compare the component specification yaml and find the difference\n",
        "\n",
        "https://cloud.google.com/vertex-ai/docs/training/pre-built-containers"
      ]
    },
    {
      "cell_type": "code",
      "metadata": {
        "id": "dJ1P8F826sjO"
      },
      "source": [
        "@component(output_component_file=\"custom_base_image_component.yaml\",\n",
        "           base_image=\"gcr.io/deeplearning-platform-release/tf2-gpu.2-6\"\n",
        ") \n",
        "def custom_base_image():\n",
        "  import tensorflow as tf\n",
        "  print(tf.version.VERSION)\n",
        "\n",
        "# fails for demonstration purposes\n",
        "@component(output_component_file=\"default_base_image_component.yaml\") \n",
        "def default_base_image():\n",
        "  import tensorflow as tf\n",
        "  print(tf.version.VERSION)"
      ],
      "execution_count": null,
      "outputs": []
    },
    {
      "cell_type": "code",
      "metadata": {
        "colab": {
          "base_uri": "https://localhost:8080/"
        },
        "id": "LOnGZ59z64Y_",
        "outputId": "71e12312-bd5f-484b-8a77-d40f8dda586c"
      },
      "source": [
        "!cat ./default_base_image_component.yaml"
      ],
      "execution_count": null,
      "outputs": [
        {
          "output_type": "stream",
          "name": "stdout",
          "text": [
            "name: Default base image\n",
            "implementation:\n",
            "  container:\n",
            "    image: python:3.7\n",
            "    command:\n",
            "    - sh\n",
            "    - -c\n",
            "    - |2\n",
            "\n",
            "      if ! [ -x \"$(command -v pip)\" ]; then\n",
            "          python3 -m ensurepip || python3 -m ensurepip --user || apt-get install python3-pip\n",
            "      fi\n",
            "\n",
            "      PIP_DISABLE_PIP_VERSION_CHECK=1 python3 -m pip install --quiet     --no-warn-script-location 'kfp==1.8.12' && \"$0\" \"$@\"\n",
            "    - sh\n",
            "    - -ec\n",
            "    - |\n",
            "      program_path=$(mktemp -d)\n",
            "      printf \"%s\" \"$0\" > \"$program_path/ephemeral_component.py\"\n",
            "      python3 -m kfp.v2.components.executor_main                         --component_module_path                         \"$program_path/ephemeral_component.py\"                         \"$@\"\n",
            "    - |2+\n",
            "\n",
            "      import kfp\n",
            "      from kfp.v2 import dsl\n",
            "      from kfp.v2.dsl import *\n",
            "      from typing import *\n",
            "\n",
            "      def default_base_image():\n",
            "        import tensorflow as tf\n",
            "        print(tf.version.VERSION)\n",
            "\n",
            "    args:\n",
            "    - --executor_input\n",
            "    - {executorInput: null}\n",
            "    - --function_to_execute\n",
            "    - default_base_image\n",
            "PipelineJob projects/234439745674/locations/us-central1/pipelineJobs/gpu-pipeline-20220615205633 current state:\n",
            "PipelineState.PIPELINE_STATE_RUNNING\n"
          ]
        }
      ]
    },
    {
      "cell_type": "code",
      "metadata": {
        "colab": {
          "base_uri": "https://localhost:8080/"
        },
        "id": "S9EgmAoq7DAa",
        "outputId": "d6102ed9-c2ab-4b71-9b09-4eded35fc6cc"
      },
      "source": [
        "!cat ./custom_base_image_component.yaml"
      ],
      "execution_count": null,
      "outputs": [
        {
          "output_type": "stream",
          "name": "stdout",
          "text": [
            "name: Custom base image\n",
            "implementation:\n",
            "  container:\n",
            "    image: gcr.io/deeplearning-platform-release/tf2-gpu.2-6\n",
            "    command:\n",
            "    - sh\n",
            "    - -c\n",
            "    - |2\n",
            "\n",
            "      if ! [ -x \"$(command -v pip)\" ]; then\n",
            "          python3 -m ensurepip || python3 -m ensurepip --user || apt-get install python3-pip\n",
            "      fi\n",
            "\n",
            "      PIP_DISABLE_PIP_VERSION_CHECK=1 python3 -m pip install --quiet     --no-warn-script-location 'kfp==1.8.12' && \"$0\" \"$@\"\n",
            "    - sh\n",
            "    - -ec\n",
            "    - |\n",
            "      program_path=$(mktemp -d)\n",
            "      printf \"%s\" \"$0\" > \"$program_path/ephemeral_component.py\"\n",
            "      python3 -m kfp.v2.components.executor_main                         --component_module_path                         \"$program_path/ephemeral_component.py\"                         \"$@\"\n",
            "    - |2+\n",
            "\n",
            "      import kfp\n",
            "      from kfp.v2 import dsl\n",
            "      from kfp.v2.dsl import *\n",
            "      from typing import *\n",
            "\n",
            "      def custom_base_image():\n",
            "        import tensorflow as tf\n",
            "        print(tf.version.VERSION)\n",
            "\n",
            "    args:\n",
            "    - --executor_input\n",
            "    - {executorInput: null}\n",
            "    - --function_to_execute\n",
            "    - custom_base_image\n"
          ]
        }
      ]
    },
    {
      "cell_type": "markdown",
      "metadata": {
        "id": "7JGm1YhnUExE"
      },
      "source": [
        "## Predefined Components\n",
        "\n",
        "For a full list of pre-defined components see https://cloud.google.com/vertex-ai/docs/pipelines/gcpc-list\n",
        "\n",
        "Predefined components depends on the use case.\n"
      ]
    },
    {
      "cell_type": "markdown",
      "metadata": {
        "id": "ckZCJavxBtf7"
      },
      "source": [
        "# Pipeline end to end (XGBoost)"
      ]
    },
    {
      "cell_type": "markdown",
      "metadata": {
        "id": "gCymNXQuW15K"
      },
      "source": [
        "## Dependencies"
      ]
    },
    {
      "cell_type": "code",
      "metadata": {
        "id": "CLJqZSzYBu2y"
      },
      "source": [
        "from typing import NamedTuple\n",
        "\n",
        "from kfp.v2 import dsl\n",
        "from kfp.v2.dsl import (Artifact,\n",
        "                        Dataset,\n",
        "                        Input,\n",
        "                        Model,\n",
        "                        Output,\n",
        "                        Metrics,\n",
        "                        ClassificationMetrics,\n",
        "                        component, \n",
        "                        Markdown)\n",
        "\n",
        "from kfp.v2 import compiler"
      ],
      "execution_count": null,
      "outputs": []
    },
    {
      "cell_type": "markdown",
      "metadata": {
        "id": "D6O8akfmUoWc"
      },
      "source": [
        "## Data"
      ]
    },
    {
      "cell_type": "code",
      "metadata": {
        "id": "sPKVVep2BxU9"
      },
      "source": [
        "@component(\n",
        "    packages_to_install = [\n",
        "        \"pandas==1.3.4\",\n",
        "        \"scikit-learn==1.0.1\",\n",
        "    ],\n",
        ")\n",
        "def get_data(\n",
        "    dataset_train: Output[Dataset],\n",
        "    dataset_test: Output[Dataset],\n",
        "):\n",
        "    \n",
        "    from sklearn import datasets\n",
        "    from sklearn.model_selection import train_test_split as tts\n",
        "    import pandas as pd\n",
        "\n",
        "\n",
        "    # dataset https://www.kaggle.com/uciml/breast-cancer-wisconsin-data\n",
        "    data_raw = datasets.load_breast_cancer()\n",
        "    data = pd.DataFrame(data_raw.data, columns=data_raw.feature_names)\n",
        "    data[\"target\"] = data_raw.target\n",
        "    \n",
        "    train, test = tts(data, test_size=0.3)\n",
        "    \n",
        "    train.to_csv(dataset_train.path)\n",
        "    test.to_csv(dataset_test.path)"
      ],
      "execution_count": null,
      "outputs": []
    },
    {
      "cell_type": "markdown",
      "metadata": {
        "id": "dmllUUq0UqDo"
      },
      "source": [
        "## Training"
      ]
    },
    {
      "cell_type": "code",
      "metadata": {
        "id": "4aVHg2lSByxy"
      },
      "source": [
        "@component(\n",
        "    packages_to_install = [\n",
        "        \"pandas==1.3.4\",\n",
        "        \"xgboost==1.5.1\",\n",
        "        \"scikit-learn==1.0.1\", #xgboost requires scikitlearn\n",
        "    ],\n",
        ")\n",
        "def train_model(\n",
        "    dataset: Input[Dataset],\n",
        "    model_artifact: Output[Model]\n",
        "):\n",
        "    \n",
        "    from xgboost import XGBClassifier\n",
        "    import pandas as pd\n",
        "    import pickle\n",
        "    \n",
        "    #model_artifact = 'model.bst'\n",
        "    data = pd.read_csv(dataset.path)\n",
        "\n",
        "    model = XGBClassifier(\n",
        "        objective=\"binary:logistic\"\n",
        "    )\n",
        "    model.fit(\n",
        "        data.drop(columns=[\"target\"]),\n",
        "        data.target,\n",
        "    )\n",
        "    with open('model.pkl', 'wb') as model_file: \n",
        "      pickle.dump(model, model_file)\n",
        "\n",
        "    score = model.score(\n",
        "        data.drop(columns=[\"target\"]),\n",
        "        data.target,\n",
        "    )\n",
        "\n",
        "    model_artifact.metadata[\"train_score\"] = float(score)\n",
        "    model_artifact.metadata[\"framework\"] = \"XGBoost\"\n",
        "\n",
        "    print(model_artifact.path)\n",
        "    \n",
        "    model.save_model(model_artifact.path)"
      ],
      "execution_count": null,
      "outputs": []
    },
    {
      "cell_type": "markdown",
      "metadata": {
        "id": "rkazD35dv0Un"
      },
      "source": [
        "## Evaluation"
      ]
    },
    {
      "cell_type": "code",
      "metadata": {
        "id": "k1AiObLIB1cx"
      },
      "source": [
        "@component(\n",
        "    packages_to_install = [\n",
        "        \"pandas==1.3.4\",\n",
        "        \"scikit-learn==1.0.1\",\n",
        "        \"xgboost==1.5.1\"\n",
        "    ],\n",
        ")\n",
        "def eval_model(\n",
        "    test_set: Input[Dataset],\n",
        "    xgb_model: Input[Model],\n",
        "    metrics: Output[ClassificationMetrics],\n",
        "    smetrics: Output[Metrics]\n",
        ") -> NamedTuple(\"Outputs\", [(\"deploy\", str)]): \n",
        "    from xgboost import XGBClassifier\n",
        "    import pandas as pd\n",
        "    \n",
        "    data = pd.read_csv(test_set.path)\n",
        "    model = XGBClassifier()\n",
        "    model.load_model(xgb_model.path)\n",
        "    \n",
        "    score = model.score(\n",
        "        data.drop(columns=[\"target\"]),\n",
        "        data.target,\n",
        "    )\n",
        "    \n",
        "    from sklearn.metrics import roc_curve\n",
        "    y_scores =  model.predict_proba(data.drop(columns=[\"target\"]))[:, 1]\n",
        "    fpr, tpr, thresholds = roc_curve(\n",
        "         y_true=data.target.to_numpy(), y_score=y_scores, pos_label=True\n",
        "    )\n",
        "    metrics.log_roc_curve(fpr.tolist(), tpr.tolist(), thresholds.tolist())\n",
        "    \n",
        "    from sklearn.metrics import confusion_matrix\n",
        "    y_pred = model.predict(data.drop(columns=[\"target\"]))\n",
        "    \n",
        "    metrics.log_confusion_matrix(\n",
        "       [\"False\", \"True\"],\n",
        "       confusion_matrix(\n",
        "           data.target, y_pred\n",
        "       ).tolist()\n",
        "    )\n",
        "    \n",
        "    xgb_model.metadata[\"test_score\"] = float(score)\n",
        "    smetrics.log_metric(\"score\", float(score))\n",
        "\n",
        "\n",
        "    deploy = \"true\"\n",
        "    #compare threshold or to previous\n",
        "\n",
        "    return (deploy,)"
      ],
      "execution_count": null,
      "outputs": []
    },
    {
      "cell_type": "markdown",
      "metadata": {
        "id": "V4qRVZ9Jv2NV"
      },
      "source": [
        "## Deployment"
      ]
    },
    {
      "cell_type": "code",
      "metadata": {
        "id": "dZq-EaJngwFW"
      },
      "source": [
        "@component(packages_to_install=[\"google-cloud-aiplatform==1.3.0\"])\n",
        "def deploy(\n",
        "    model: Input[Model],\n",
        "    project: str,\n",
        "    region: str,):\n",
        "  \n",
        "  import logging\n",
        "  from google.cloud import aiplatform\n",
        "  aiplatform.init(project=project, location=region)\n",
        "\n",
        "  logging.basicConfig(level=logging.DEBUG)\n",
        "  logging.debug(model)\n",
        "\n",
        "  print(model)\n",
        "  print(model.uri)\n",
        "\n",
        "  import os\n",
        "  path,file = os.path.split(model.uri)\n",
        "\n",
        "  import datetime\n",
        "  \n",
        "  # datetime.datetime.now().strftime('%Y%m%d%H%M%S')\n",
        "  # serving image https://cloud.google.com/vertex-ai/docs/predictions/pre-built-containers#xgboost\n",
        "  deployed_model = aiplatform.Model.upload(\n",
        "        display_name=\"xgboost-pipeline\",\n",
        "        artifact_uri = path,\n",
        "        serving_container_image_uri=\"us-docker.pkg.dev/vertex-ai/prediction/xgboost-cpu.1-4:latest\"\n",
        "  )\n"
      ],
      "execution_count": null,
      "outputs": []
    },
    {
      "cell_type": "markdown",
      "metadata": {
        "id": "QRgW9szKv46I"
      },
      "source": [
        "## Pipeline"
      ]
    },
    {
      "cell_type": "code",
      "metadata": {
        "id": "z8JS0BA0B7za"
      },
      "source": [
        "@dsl.pipeline(\n",
        "    # Default pipeline root. You can override it when submitting the pipeline.\n",
        "    pipeline_root=PIPELINE_ROOT + \"xgboost-pipeline\",\n",
        "    # A name for the pipeline. Use to determine the pipeline Context.\n",
        "    name=\"xgboost-pipeline-with-deployment\",\n",
        ")\n",
        "def pipeline():\n",
        "    dataset_op = get_data()\n",
        "    training_op = train_model(dataset_op.outputs[\"dataset_train\"])\n",
        "    eval_op = eval_model(\n",
        "        test_set=dataset_op.outputs[\"dataset_test\"],\n",
        "        xgb_model=training_op.outputs[\"model_artifact\"]\n",
        "        \n",
        "    )\n",
        "\n",
        "    with dsl.Condition(\n",
        "        eval_op.outputs[\"deploy\"] == \"true\",\n",
        "        name=\"deploy\",\n",
        "    ):\n",
        "\n",
        "      deploy_op = deploy(training_op.outputs[\"model_artifact\"], \n",
        "                         'statmike-demo3-374213',\n",
        "                         'us-central1')\n",
        "\n",
        "    # we need a solution for xgb models\n",
        "    # its here https://cloud.google.com/vertex-ai/docs/predictions/deploy-model-api#aiplatform_deploy_model_custom_trained_model_sample-python\n",
        "  "
      ],
      "execution_count": null,
      "outputs": []
    },
    {
      "cell_type": "markdown",
      "metadata": {
        "id": "15juxBrzgiLk"
      },
      "source": [
        "## Compile"
      ]
    },
    {
      "cell_type": "code",
      "metadata": {
        "id": "sfz5joUmghwp"
      },
      "source": [
        "compiler.Compiler().compile(\n",
        "    pipeline_func=pipeline,\n",
        "    package_path='xgb_pipeline.json')"
      ],
      "execution_count": null,
      "outputs": []
    },
    {
      "cell_type": "code",
      "metadata": {
        "colab": {
          "base_uri": "https://localhost:8080/",
          "height": 217
        },
        "id": "IS2DvPDSB_FG",
        "outputId": "4dedabd1-4187-42b9-fb29-bd2a7246c9e0"
      },
      "source": [
        "response = api_client.create_run_from_job_spec(\n",
        "    'xgb_pipeline.json',\n",
        "    enable_caching=False\n",
        ")"
      ],
      "execution_count": null,
      "outputs": [
        {
          "output_type": "error",
          "ename": "NameError",
          "evalue": "ignored",
          "traceback": [
            "\u001b[0;31m---------------------------------------------------------------------------\u001b[0m",
            "\u001b[0;31mNameError\u001b[0m                                 Traceback (most recent call last)",
            "\u001b[0;32m<ipython-input-30-50bb6830d5f4>\u001b[0m in \u001b[0;36m<module>\u001b[0;34m\u001b[0m\n\u001b[0;32m----> 1\u001b[0;31m response = api_client.create_run_from_job_spec(\n\u001b[0m\u001b[1;32m      2\u001b[0m     \u001b[0;34m'xgb_pipeline.json'\u001b[0m\u001b[0;34m,\u001b[0m\u001b[0;34m\u001b[0m\u001b[0;34m\u001b[0m\u001b[0m\n\u001b[1;32m      3\u001b[0m     \u001b[0menable_caching\u001b[0m\u001b[0;34m=\u001b[0m\u001b[0;32mFalse\u001b[0m\u001b[0;34m\u001b[0m\u001b[0;34m\u001b[0m\u001b[0m\n\u001b[1;32m      4\u001b[0m )\n",
            "\u001b[0;31mNameError\u001b[0m: name 'api_client' is not defined"
          ]
        }
      ]
    },
    {
      "cell_type": "markdown",
      "metadata": {
        "id": "lSDY3Rrh8OTq"
      },
      "source": [
        "## Run Pipeline (new)"
      ]
    },
    {
      "cell_type": "code",
      "metadata": {
        "id": "0g0qJwcG8QHK"
      },
      "source": [
        "job = pipeline_jobs.PipelineJob(\n",
        "    display_name=\"xgb-pipeline\",\n",
        "    template_path=\"xgb_pipeline.json\"\n",
        ")\n",
        "\n",
        "job.run(sync=False)"
      ],
      "execution_count": null,
      "outputs": []
    },
    {
      "cell_type": "code",
      "source": [],
      "metadata": {
        "id": "31_R3lA-bxNq"
      },
      "execution_count": null,
      "outputs": []
    }
  ]
}